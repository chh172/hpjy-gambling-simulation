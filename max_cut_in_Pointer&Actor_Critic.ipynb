{
  "nbformat": 4,
  "nbformat_minor": 0,
  "metadata": {
    "colab": {
      "name": "max-cut-in-Pointer&Actor-Critic.ipynb",
      "provenance": [],
      "collapsed_sections": [],
      "authorship_tag": "ABX9TyMXEAO/0E77UIXQGHbITCOv",
      "include_colab_link": true
    },
    "kernelspec": {
      "name": "python3",
      "display_name": "Python 3"
    },
    "language_info": {
      "name": "python"
    }
  },
  "cells": [
    {
      "cell_type": "markdown",
      "metadata": {
        "id": "view-in-github",
        "colab_type": "text"
      },
      "source": [
        "<a href=\"https://colab.research.google.com/github/chh172/hpjy-gambling-simulation/blob/main/max_cut_in_Pointer%26Actor_Critic.ipynb\" target=\"_parent\"><img src=\"https://colab.research.google.com/assets/colab-badge.svg\" alt=\"Open In Colab\"/></a>"
      ]
    },
    {
      "cell_type": "code",
      "source": [
        "import random \n",
        "from networkx import *\n",
        "n = 6\n",
        "p = 0.5\n",
        "g = erdos_renyi_graph(n, p)\n",
        "print(g. nodes)\n",
        "# [0, 1, 2, 3, 4, 5] \n",
        "print(g. edges)\n",
        "# [(0, 1), (0, 2), (0, 4), (1, 2), (1, 5), (3, 4), (4, 5)]"
      ],
      "metadata": {
        "colab": {
          "base_uri": "https://localhost:8080/"
        },
        "id": "9f-O7ecEb4Aj",
        "outputId": "c943ff1a-2ac7-4fc9-8eff-d5b52e2c2a2f"
      },
      "execution_count": 121,
      "outputs": [
        {
          "output_type": "stream",
          "name": "stdout",
          "text": [
            "[0, 1, 2, 3, 4, 5]\n",
            "[(0, 1), (0, 3), (0, 4), (0, 5), (1, 4), (2, 4), (3, 4), (4, 5)]\n"
          ]
        }
      ]
    },
    {
      "cell_type": "code",
      "source": [
        "# Description: this function randomly generate a sequence of graphs G(V,E)\n",
        "# where graphs are represented by their adjacency matrix A\n",
        "# and the distribution of V and E are all uniform.\n",
        "# It takes in 'number' of graphs, 'infimum' and 'supremum' of |V|. \n",
        "import numpy as np\n",
        "from networkx import *\n",
        "import random\n",
        "def graph_seq_generator(num, inf, sup):\n",
        "  atlas = []\n",
        "  for i in range(num):\n",
        "    A = adjacency_matrix(erdos_renyi_graph(np.random.randint(inf,sup), 0.5))\n",
        "    #print(A.todense())\n",
        "    atlas.append(A.todense())\n",
        "  return atlas    \n",
        "\n"
      ],
      "metadata": {
        "id": "HXAwLP_Hh6S3"
      },
      "execution_count": 138,
      "outputs": []
    },
    {
      "cell_type": "code",
      "source": [
        "import numpy as np\n",
        "# Description: this function tensor-ize the atlas, preparing for LSTM\n",
        "def input_generator(atlas):\n",
        "  return tf.cast(np.array(random.sample(atlas,1)),tf.int64)"
      ],
      "metadata": {
        "id": "9zlJq0DRyAez"
      },
      "execution_count": 150,
      "outputs": []
    },
    {
      "cell_type": "code",
      "source": [
        "# Unit testing\n",
        "atlas = graph_seq_generator(4,1,5)\n",
        "#print(atlas[1])\n",
        "#inp = Input(atlas[1])\n",
        "#print(inp)\n",
        "#for i in range(3):\n",
        "  #print(g[i].nodes)\n",
        "  #\n",
        "  #print(g[i].edges)\n",
        "  #\n",
        "  #print(len(g[i].nodes))\n",
        "g = random.sample(atlas,2)\n",
        "#print(g[1])\n",
        "input = input_generator(atlas)\n",
        "print(input)\n",
        "print(input.shape[0])\n",
        "print(input.shape[1])\n",
        "print(input.shape[2])\n",
        "print(input.shape)\n",
        "#print(input.shape)\n",
        "x = Input(shape=(32,))\n",
        "#x_1 = Input(input)\n",
        "print(x)\n"
      ],
      "metadata": {
        "colab": {
          "base_uri": "https://localhost:8080/"
        },
        "id": "W-bmxoRsJmcc",
        "outputId": "f7db28fc-2cfc-4c67-8f67-754ef3d3b2d4"
      },
      "execution_count": 124,
      "outputs": [
        {
          "output_type": "stream",
          "name": "stdout",
          "text": [
            "[[[0 1 1 0 1]\n",
            "  [1 0 0 1 0]\n",
            "  [1 0 0 1 0]\n",
            "  [0 1 1 0 1]\n",
            "  [1 0 0 1 0]]]\n",
            "1\n",
            "5\n",
            "5\n",
            "(1, 5, 5)\n",
            "KerasTensor(type_spec=TensorSpec(shape=(None, 32), dtype=tf.float32, name='input_57'), name='input_57', description=\"created by layer 'input_57'\")\n"
          ]
        }
      ]
    },
    {
      "cell_type": "code",
      "execution_count": 125,
      "metadata": {
        "colab": {
          "base_uri": "https://localhost:8080/"
        },
        "id": "y1HvxHA8Fveg",
        "outputId": "5a8dac95-fe19-4821-a13f-3137de11d662"
      },
      "outputs": [
        {
          "output_type": "stream",
          "name": "stdout",
          "text": [
            "tf.Tensor(\n",
            "[[[-0.18030666 -0.95028627]\n",
            "  [-0.03964049 -0.7425406 ]]], shape=(1, 2, 2), dtype=float32)\n",
            "hello\n",
            "[<tf.Tensor: shape=(1, 4), dtype=float32, numpy=\n",
            "array([[-0.15152912, -0.03594875, -0.08885209, -0.08949389]],\n",
            "      dtype=float32)>, <tf.Tensor: shape=(1, 4), dtype=float32, numpy=\n",
            "array([[-0.38909298, -0.0667583 , -0.15113086, -0.1573536 ]],\n",
            "      dtype=float32)>]\n"
          ]
        }
      ],
      "source": [
        "import tensorflow as tf\n",
        "from tensorflow.keras import *\n",
        "tf.random.set_seed(5)\n",
        "encoder_inputs = tf.random.normal([1,2, 2]) \n",
        "\n",
        "encoder = tf.keras.layers.LSTM(4, return_sequences=True, return_state=True)\n",
        "encoder_outputs, state_h, state_c = encoder(encoder_inputs)\n",
        "encoder_states = [state_h, state_c]\n",
        "# TODO: add pointer network layer\n",
        "decoder = tf.keras.layers.LSTM(4, return_sequences=True, return_state=True)\n",
        "decoder_outputs, de_state_h, de_state_c = decoder(encoder_inputs)\n",
        "encoder_states = [de_state_h, de_state_c]\n",
        "print(encoder_inputs)\n",
        "print(\"hello\")\n",
        "print(encoder_states)\n",
        "\n"
      ]
    },
    {
      "cell_type": "code",
      "source": [
        "# training main\n",
        "import tensorflow as tf\n",
        "from tensorflow.keras import *\n",
        "atlas = graph_seq_generator(100,10,50)\n",
        "# actor/policy works as encoder\n",
        "actor = tf.keras.layers.LSTM(128, return_sequences=True, return_state=True)\n",
        "# pointer works as decoder\n",
        "pointer = tf.keras.layers.LSTM(128, return_sequences=True, return_state=True)\n",
        "# critic/value works as encoder\n",
        "critic = tf.keras.layers.LSTM(128, return_sequences=True, return_state=True)\n",
        "for i in range(100):\n",
        "  graph = input_generator(atlas)\n",
        "  print(graph)\n",
        "  actor_outputs, state_h, state_c = actor(graph)\n",
        "  decoder_outputs, de_state_h, de_state_c = pointer(actor_outputs)\n",
        "  value, critic_state_h, critic_state_c = critic(decoder_outputs)"
      ],
      "metadata": {
        "id": "tk4gQ46_4nDA"
      },
      "execution_count": null,
      "outputs": []
    },
    {
      "cell_type": "code",
      "source": [
        "# (inference template) main\n",
        "import tensorflow as tf\n",
        "from tensorflow.keras import *\n",
        "atlas = graph_seq_generator(10,10,50)\n",
        "graph = input_generator(atlas)\n",
        "print(graph)\n",
        "# actor/policy works as encoder\n",
        "actor = tf.keras.layers.LSTM(128, return_sequences=True, return_state=True)\n",
        "# pointer works as decoder\n",
        "pointer = tf.keras.layers.LSTM(128, return_sequences=True, return_state=True)\n",
        "# critic/value works as encoder\n",
        "critic = tf.keras.layers.LSTM(128, return_sequences=True, return_state=True)\n",
        "actor_outputs, state_h, state_c = actor(graph)\n",
        "decoder_outputs, de_state_h, de_state_c = pointer(actor_outputs)\n",
        "value, critic_state_h, critic_state_c = critic(decoder_outputs)\n",
        "print(value)"
      ],
      "metadata": {
        "colab": {
          "base_uri": "https://localhost:8080/",
          "height": 764
        },
        "id": "TBYsGYKkscVI",
        "outputId": "85af687b-a024-4aca-a343-8671fdcfdfe3"
      },
      "execution_count": 153,
      "outputs": [
        {
          "output_type": "stream",
          "name": "stdout",
          "text": [
            "tf.Tensor(\n",
            "[[[0 0 1 1 1 1 1 0 0 1 1 0]\n",
            "  [0 0 1 0 0 1 1 0 1 1 1 1]\n",
            "  [1 1 0 0 0 1 1 0 1 0 1 0]\n",
            "  [1 0 0 0 1 0 0 1 0 0 1 0]\n",
            "  [1 0 0 1 0 1 0 1 1 1 1 1]\n",
            "  [1 1 1 0 1 0 0 0 0 0 0 1]\n",
            "  [1 1 1 0 0 0 0 0 0 0 0 0]\n",
            "  [0 0 0 1 1 0 0 0 1 0 1 0]\n",
            "  [0 1 1 0 1 0 0 1 0 1 1 1]\n",
            "  [1 1 0 0 1 0 0 0 1 0 1 0]\n",
            "  [1 1 1 1 1 0 0 1 1 1 0 0]\n",
            "  [0 1 0 0 1 1 0 0 1 0 0 0]]], shape=(1, 12, 12), dtype=int64)\n"
          ]
        },
        {
          "output_type": "error",
          "ename": "InvalidArgumentError",
          "evalue": "ignored",
          "traceback": [
            "\u001b[0;31m---------------------------------------------------------------------------\u001b[0m",
            "\u001b[0;31mInvalidArgumentError\u001b[0m                      Traceback (most recent call last)",
            "\u001b[0;32m<ipython-input-153-a185e32f4c47>\u001b[0m in \u001b[0;36m<module>\u001b[0;34m()\u001b[0m\n\u001b[1;32m     11\u001b[0m \u001b[0;31m# critic/value works as encoder\u001b[0m\u001b[0;34m\u001b[0m\u001b[0;34m\u001b[0m\u001b[0;34m\u001b[0m\u001b[0m\n\u001b[1;32m     12\u001b[0m \u001b[0mcritic\u001b[0m \u001b[0;34m=\u001b[0m \u001b[0mtf\u001b[0m\u001b[0;34m.\u001b[0m\u001b[0mkeras\u001b[0m\u001b[0;34m.\u001b[0m\u001b[0mlayers\u001b[0m\u001b[0;34m.\u001b[0m\u001b[0mLSTM\u001b[0m\u001b[0;34m(\u001b[0m\u001b[0;36m128\u001b[0m\u001b[0;34m,\u001b[0m \u001b[0mreturn_sequences\u001b[0m\u001b[0;34m=\u001b[0m\u001b[0;32mTrue\u001b[0m\u001b[0;34m,\u001b[0m \u001b[0mreturn_state\u001b[0m\u001b[0;34m=\u001b[0m\u001b[0;32mTrue\u001b[0m\u001b[0;34m)\u001b[0m\u001b[0;34m\u001b[0m\u001b[0;34m\u001b[0m\u001b[0m\n\u001b[0;32m---> 13\u001b[0;31m \u001b[0mactor_outputs\u001b[0m\u001b[0;34m,\u001b[0m \u001b[0mstate_h\u001b[0m\u001b[0;34m,\u001b[0m \u001b[0mstate_c\u001b[0m \u001b[0;34m=\u001b[0m \u001b[0mactor\u001b[0m\u001b[0;34m(\u001b[0m\u001b[0mgraph\u001b[0m\u001b[0;34m)\u001b[0m\u001b[0;34m\u001b[0m\u001b[0;34m\u001b[0m\u001b[0m\n\u001b[0m\u001b[1;32m     14\u001b[0m \u001b[0mdecoder_outputs\u001b[0m\u001b[0;34m,\u001b[0m \u001b[0mde_state_h\u001b[0m\u001b[0;34m,\u001b[0m \u001b[0mde_state_c\u001b[0m \u001b[0;34m=\u001b[0m \u001b[0mpointer\u001b[0m\u001b[0;34m(\u001b[0m\u001b[0mactor_outputs\u001b[0m\u001b[0;34m)\u001b[0m\u001b[0;34m\u001b[0m\u001b[0;34m\u001b[0m\u001b[0m\n\u001b[1;32m     15\u001b[0m \u001b[0mvalue\u001b[0m\u001b[0;34m,\u001b[0m \u001b[0mcritic_state_h\u001b[0m\u001b[0;34m,\u001b[0m \u001b[0mcritic_state_c\u001b[0m \u001b[0;34m=\u001b[0m \u001b[0mcritic\u001b[0m\u001b[0;34m(\u001b[0m\u001b[0mdecoder_outputs\u001b[0m\u001b[0;34m)\u001b[0m\u001b[0;34m\u001b[0m\u001b[0;34m\u001b[0m\u001b[0m\n",
            "\u001b[0;32m/usr/local/lib/python3.7/dist-packages/keras/layers/recurrent.py\u001b[0m in \u001b[0;36m__call__\u001b[0;34m(self, inputs, initial_state, constants, **kwargs)\u001b[0m\n\u001b[1;32m    677\u001b[0m \u001b[0;34m\u001b[0m\u001b[0m\n\u001b[1;32m    678\u001b[0m     \u001b[0;32mif\u001b[0m \u001b[0minitial_state\u001b[0m \u001b[0;32mis\u001b[0m \u001b[0;32mNone\u001b[0m \u001b[0;32mand\u001b[0m \u001b[0mconstants\u001b[0m \u001b[0;32mis\u001b[0m \u001b[0;32mNone\u001b[0m\u001b[0;34m:\u001b[0m\u001b[0;34m\u001b[0m\u001b[0;34m\u001b[0m\u001b[0m\n\u001b[0;32m--> 679\u001b[0;31m       \u001b[0;32mreturn\u001b[0m \u001b[0msuper\u001b[0m\u001b[0;34m(\u001b[0m\u001b[0mRNN\u001b[0m\u001b[0;34m,\u001b[0m \u001b[0mself\u001b[0m\u001b[0;34m)\u001b[0m\u001b[0;34m.\u001b[0m\u001b[0m__call__\u001b[0m\u001b[0;34m(\u001b[0m\u001b[0minputs\u001b[0m\u001b[0;34m,\u001b[0m \u001b[0;34m**\u001b[0m\u001b[0mkwargs\u001b[0m\u001b[0;34m)\u001b[0m\u001b[0;34m\u001b[0m\u001b[0;34m\u001b[0m\u001b[0m\n\u001b[0m\u001b[1;32m    680\u001b[0m \u001b[0;34m\u001b[0m\u001b[0m\n\u001b[1;32m    681\u001b[0m     \u001b[0;31m# If any of `initial_state` or `constants` are specified and are Keras\u001b[0m\u001b[0;34m\u001b[0m\u001b[0;34m\u001b[0m\u001b[0;34m\u001b[0m\u001b[0m\n",
            "\u001b[0;32m/usr/local/lib/python3.7/dist-packages/keras/utils/traceback_utils.py\u001b[0m in \u001b[0;36merror_handler\u001b[0;34m(*args, **kwargs)\u001b[0m\n\u001b[1;32m     65\u001b[0m     \u001b[0;32mexcept\u001b[0m \u001b[0mException\u001b[0m \u001b[0;32mas\u001b[0m \u001b[0me\u001b[0m\u001b[0;34m:\u001b[0m  \u001b[0;31m# pylint: disable=broad-except\u001b[0m\u001b[0;34m\u001b[0m\u001b[0;34m\u001b[0m\u001b[0m\n\u001b[1;32m     66\u001b[0m       \u001b[0mfiltered_tb\u001b[0m \u001b[0;34m=\u001b[0m \u001b[0m_process_traceback_frames\u001b[0m\u001b[0;34m(\u001b[0m\u001b[0me\u001b[0m\u001b[0;34m.\u001b[0m\u001b[0m__traceback__\u001b[0m\u001b[0;34m)\u001b[0m\u001b[0;34m\u001b[0m\u001b[0;34m\u001b[0m\u001b[0m\n\u001b[0;32m---> 67\u001b[0;31m       \u001b[0;32mraise\u001b[0m \u001b[0me\u001b[0m\u001b[0;34m.\u001b[0m\u001b[0mwith_traceback\u001b[0m\u001b[0;34m(\u001b[0m\u001b[0mfiltered_tb\u001b[0m\u001b[0;34m)\u001b[0m \u001b[0;32mfrom\u001b[0m \u001b[0;32mNone\u001b[0m\u001b[0;34m\u001b[0m\u001b[0;34m\u001b[0m\u001b[0m\n\u001b[0m\u001b[1;32m     68\u001b[0m     \u001b[0;32mfinally\u001b[0m\u001b[0;34m:\u001b[0m\u001b[0;34m\u001b[0m\u001b[0;34m\u001b[0m\u001b[0m\n\u001b[1;32m     69\u001b[0m       \u001b[0;32mdel\u001b[0m \u001b[0mfiltered_tb\u001b[0m\u001b[0;34m\u001b[0m\u001b[0;34m\u001b[0m\u001b[0m\n",
            "\u001b[0;32m/usr/local/lib/python3.7/dist-packages/keras/backend.py\u001b[0m in \u001b[0;36mdot\u001b[0;34m(x, y)\u001b[0m\n\u001b[1;32m   2221\u001b[0m     \u001b[0mout\u001b[0m \u001b[0;34m=\u001b[0m \u001b[0mtf\u001b[0m\u001b[0;34m.\u001b[0m\u001b[0msparse\u001b[0m\u001b[0;34m.\u001b[0m\u001b[0msparse_dense_matmul\u001b[0m\u001b[0;34m(\u001b[0m\u001b[0mx\u001b[0m\u001b[0;34m,\u001b[0m \u001b[0my\u001b[0m\u001b[0;34m)\u001b[0m\u001b[0;34m\u001b[0m\u001b[0;34m\u001b[0m\u001b[0m\n\u001b[1;32m   2222\u001b[0m   \u001b[0;32melse\u001b[0m\u001b[0;34m:\u001b[0m\u001b[0;34m\u001b[0m\u001b[0;34m\u001b[0m\u001b[0m\n\u001b[0;32m-> 2223\u001b[0;31m     \u001b[0mout\u001b[0m \u001b[0;34m=\u001b[0m \u001b[0mtf\u001b[0m\u001b[0;34m.\u001b[0m\u001b[0mmatmul\u001b[0m\u001b[0;34m(\u001b[0m\u001b[0mx\u001b[0m\u001b[0;34m,\u001b[0m \u001b[0my\u001b[0m\u001b[0;34m)\u001b[0m\u001b[0;34m\u001b[0m\u001b[0;34m\u001b[0m\u001b[0m\n\u001b[0m\u001b[1;32m   2224\u001b[0m   \u001b[0;32mreturn\u001b[0m \u001b[0mout\u001b[0m\u001b[0;34m\u001b[0m\u001b[0;34m\u001b[0m\u001b[0m\n\u001b[1;32m   2225\u001b[0m \u001b[0;34m\u001b[0m\u001b[0m\n",
            "\u001b[0;31mInvalidArgumentError\u001b[0m: Exception encountered when calling layer \"lstm_80\" (type LSTM).\n\ncannot compute MatMul as input #1(zero-based) was expected to be a int64 tensor but is a float tensor [Op:MatMul]\n\nCall arguments received:\n  • inputs=tf.Tensor(shape=(1, 12, 12), dtype=int64)\n  • mask=None\n  • training=None\n  • initial_state=None"
          ]
        }
      ]
    },
    {
      "cell_type": "code",
      "source": [
        ""
      ],
      "metadata": {
        "id": "CGlxycKIJFu_"
      },
      "execution_count": null,
      "outputs": []
    }
  ]
}